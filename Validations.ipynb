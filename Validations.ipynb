{
 "cells": [
  {
   "cell_type": "code",
   "execution_count": 1,
   "id": "initial_id",
   "metadata": {
    "collapsed": true,
    "ExecuteTime": {
     "end_time": "2023-10-20T21:17:07.090978Z",
     "start_time": "2023-10-20T21:17:06.720628Z"
    }
   },
   "outputs": [],
   "source": [
    "import functions as f"
   ]
  },
  {
   "cell_type": "code",
   "execution_count": 2,
   "outputs": [
    {
     "data": {
      "text/plain": "[{'date': '2023-10-20',\n  'month1': 5.56,\n  'month2': 5.56,\n  'month3': 5.58,\n  'month6': 5.54,\n  'year1': 5.41,\n  'year2': 5.07,\n  'year3': 4.93,\n  'year5': 4.86,\n  'year7': 4.93,\n  'year10': 4.93,\n  'year20': 5.27,\n  'year30': 5.09},\n {'date': '2023-10-19',\n  'month1': 5.58,\n  'month2': 5.57,\n  'month3': 5.6,\n  'month6': 5.56,\n  'year1': 5.44,\n  'year2': 5.14,\n  'year3': 5.01,\n  'year5': 4.95,\n  'year7': 5,\n  'year10': 4.98,\n  'year20': 5.3,\n  'year30': 5.11}]"
     },
     "execution_count": 2,
     "metadata": {},
     "output_type": "execute_result"
    }
   ],
   "source": [
    "f.get_treasury_data()"
   ],
   "metadata": {
    "collapsed": false,
    "ExecuteTime": {
     "end_time": "2023-10-20T21:17:14.479685Z",
     "start_time": "2023-10-20T21:17:14.137247Z"
    }
   },
   "id": "b134a5ca0aa52b28"
  },
  {
   "cell_type": "code",
   "execution_count": null,
   "outputs": [],
   "source": [],
   "metadata": {
    "collapsed": false
   },
   "id": "d7a58a52c649c20"
  }
 ],
 "metadata": {
  "kernelspec": {
   "display_name": "Python 3",
   "language": "python",
   "name": "python3"
  },
  "language_info": {
   "codemirror_mode": {
    "name": "ipython",
    "version": 2
   },
   "file_extension": ".py",
   "mimetype": "text/x-python",
   "name": "python",
   "nbconvert_exporter": "python",
   "pygments_lexer": "ipython2",
   "version": "2.7.6"
  }
 },
 "nbformat": 4,
 "nbformat_minor": 5
}
