{
 "cells": [
  {
   "cell_type": "code",
   "execution_count": 4,
   "id": "dbc553b9fd47aa33",
   "metadata": {
    "ExecuteTime": {
     "end_time": "2023-09-22T03:37:52.420047Z",
     "start_time": "2023-09-22T03:37:41.595011Z"
    },
    "collapsed": false
   },
   "outputs": [
    {
     "name": "stdout",
     "output_type": "stream",
     "text": [
      "[\n",
      "  {\n",
      "    \"symbol\": \"EFV\",\n",
      "    \"date\": \"2023-09-26 00:00:00\",\n",
      "    \"close_price\": 49.21,\n",
      "    \"sma50\": 49.6679,\n",
      "    \"sma100\": 49.33105,\n",
      "    \"sma200\": 48.805949999999996,\n",
      "    \"action\": \"BUY\"\n",
      "  },\n",
      "  {\n",
      "    \"symbol\": \"EFG\",\n",
      "    \"date\": \"2023-09-26 00:00:00\",\n",
      "    \"close_price\": 86.2099,\n",
      "    \"sma50\": 92.057398,\n",
      "    \"sma100\": 93.57879899999998,\n",
      "    \"sma200\": 91.93584949999996,\n",
      "    \"action\": \"BUY\"\n",
      "  },\n",
      "  {\n",
      "    \"symbol\": \"EELV\",\n",
      "    \"date\": \"2023-09-26 00:00:00\",\n",
      "    \"close_price\": 22.6,\n",
      "    \"sma50\": 23.567902000000007,\n",
      "    \"sma100\": 23.629051,\n",
      "    \"sma200\": 23.479225500000016,\n",
      "    \"action\": \"BUY\"\n",
      "  }\n",
      "]\n"
     ]
    }
   ],
   "source": [
    "import functions   \n",
    "# Example usage with a list of symbols\n",
    "symbols = ['EFV', 'EFG', 'EELV']  # Replace with your desired stock symbols\n",
    "results = functions.analyze_stocks(symbols)\n",
    "\n",
    "# Print the results as a single JSON\n",
    "import json\n",
    "print(json.dumps(results, indent=2))"
   ]
  }
 ],
 "metadata": {
  "kernelspec": {
   "display_name": "Python 3",
   "language": "python",
   "name": "python3"
  },
  "language_info": {
   "codemirror_mode": {
    "name": "ipython",
    "version": 3
   },
   "file_extension": ".py",
   "mimetype": "text/x-python",
   "name": "python",
   "nbconvert_exporter": "python",
   "pygments_lexer": "ipython3",
   "version": "3.11.1"
  }
 },
 "nbformat": 4,
 "nbformat_minor": 5
}
