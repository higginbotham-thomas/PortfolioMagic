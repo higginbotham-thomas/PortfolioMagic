{
 "cells": [
  {
   "cell_type": "code",
   "execution_count": 3,
   "id": "initial_id",
   "metadata": {
    "collapsed": true,
    "ExecuteTime": {
     "end_time": "2023-09-22T03:37:14.466546Z",
     "start_time": "2023-09-22T03:37:14.383975Z"
    }
   },
   "outputs": [],
   "source": [
    "import functions   "
   ]
  },
  {
   "cell_type": "code",
   "execution_count": 5,
   "outputs": [
    {
     "name": "stdout",
     "output_type": "stream",
     "text": [
      "[\n",
      "  {\n",
      "    \"symbol\": \"AAPL\",\n",
      "    \"date\": \"2023-09-21 00:00:00\",\n",
      "    \"close_price\": 173.93,\n",
      "    \"sma50\": 183.70609999999996,\n",
      "    \"sma100\": 181.8569,\n",
      "    \"sma200\": 165.34509999999997,\n",
      "    \"action\": \"BUY\"\n",
      "  },\n",
      "  {\n",
      "    \"symbol\": \"GOOGL\",\n",
      "    \"date\": \"2023-09-21 00:00:00\",\n",
      "    \"close_price\": 130.44,\n",
      "    \"sma50\": 130.6478,\n",
      "    \"sma100\": 124.92379999999999,\n",
      "    \"sma200\": 110.93095,\n",
      "    \"action\": \"BUY\"\n",
      "  },\n",
      "  {\n",
      "    \"symbol\": \"MSFT\",\n",
      "    \"date\": \"2023-09-21 00:00:00\",\n",
      "    \"close_price\": 319.53,\n",
      "    \"sma50\": 331.4580000000001,\n",
      "    \"sma100\": 328.7615000000002,\n",
      "    \"sma200\": 294.12030000000016,\n",
      "    \"action\": \"BUY\"\n",
      "  }\n",
      "]\n"
     ]
    }
   ],
   "source": [
    "# Example usage with a list of symbols\n",
    "symbols = ['AAPL', 'GOOGL', 'MSFT']  # Replace with your desired stock symbols\n",
    "results = functions.analyze_stocks(symbols)\n",
    "\n",
    "# Print the results as a single JSON\n",
    "import json\n",
    "print(json.dumps(results, indent=2))"
   ],
   "metadata": {
    "collapsed": false,
    "ExecuteTime": {
     "end_time": "2023-09-22T03:37:52.420047Z",
     "start_time": "2023-09-22T03:37:41.595011Z"
    }
   },
   "id": "dbc553b9fd47aa33"
  },
  {
   "cell_type": "code",
   "execution_count": null,
   "outputs": [],
   "source": [],
   "metadata": {
    "collapsed": false
   },
   "id": "58179d01120e5551"
  }
 ],
 "metadata": {
  "kernelspec": {
   "display_name": "Python 3",
   "language": "python",
   "name": "python3"
  },
  "language_info": {
   "codemirror_mode": {
    "name": "ipython",
    "version": 2
   },
   "file_extension": ".py",
   "mimetype": "text/x-python",
   "name": "python",
   "nbconvert_exporter": "python",
   "pygments_lexer": "ipython2",
   "version": "2.7.6"
  }
 },
 "nbformat": 4,
 "nbformat_minor": 5
}
