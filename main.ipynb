{
 "cells": [
  {
   "cell_type": "code",
   "execution_count": 1,
   "id": "dbc553b9fd47aa33",
   "metadata": {
    "ExecuteTime": {
     "end_time": "2023-09-22T03:37:52.420047Z",
     "start_time": "2023-09-22T03:37:41.595011Z"
    },
    "collapsed": false
   },
   "outputs": [
    {
     "name": "stdout",
     "output_type": "stream",
     "text": [
      "[\n",
      "  {\n",
      "    \"symbol\": \"EFV\",\n",
      "    \"date\": \"2023-09-26 00:00:00\",\n",
      "    \"close_price\": 48.93,\n",
      "    \"sma50\": 49.6623,\n",
      "    \"sma100\": 49.32825,\n",
      "    \"sma200\": 48.80455,\n",
      "    \"action\": \"BUY\"\n",
      "  },\n",
      "  {\n",
      "    \"symbol\": \"EFG\",\n",
      "    \"date\": \"2023-09-26 00:00:00\",\n",
      "    \"close_price\": 85.72,\n",
      "    \"sma50\": 92.04760000000002,\n",
      "    \"sma100\": 93.5739,\n",
      "    \"sma200\": 91.93339999999998,\n",
      "    \"action\": \"SELL\"\n",
      "  },\n",
      "  {\n",
      "    \"symbol\": \"EELV\",\n",
      "    \"date\": \"2023-09-26 00:00:00\",\n",
      "    \"close_price\": 22.46,\n",
      "    \"sma50\": 23.56510200000001,\n",
      "    \"sma100\": 23.627651000000004,\n",
      "    \"sma200\": 23.478525500000018,\n",
      "    \"action\": \"SELL\"\n",
      "  }\n",
      "]\n"
     ]
    }
   ],
   "source": [
    "import functions   \n",
    "# Example usage with a list of symbols\n",
    "symbols = ['EFV', 'EFG', 'EELV']  # Replace with your desired stock symbols\n",
    "results = functions.analyze_stocks(symbols)\n",
    "\n",
    "# Print the results as a single JSON\n",
    "import json\n",
    "print(json.dumps(results, indent=2))"
   ]
  }
 ],
 "metadata": {
  "kernelspec": {
   "display_name": "Python 3",
   "language": "python",
   "name": "python3"
  },
  "language_info": {
   "codemirror_mode": {
    "name": "ipython",
    "version": 3
   },
   "file_extension": ".py",
   "mimetype": "text/x-python",
   "name": "python",
   "nbconvert_exporter": "python",
   "pygments_lexer": "ipython3",
   "version": "3.11.1"
  }
 },
 "nbformat": 4,
 "nbformat_minor": 5
}
