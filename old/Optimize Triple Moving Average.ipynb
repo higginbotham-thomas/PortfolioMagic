{
 "cells": [
  {
   "cell_type": "code",
   "execution_count": 17,
   "metadata": {},
   "outputs": [],
   "source": [
    "import pandas as pd\n",
    "import itertools"
   ]
  },
  {
   "cell_type": "code",
   "execution_count": 18,
   "metadata": {},
   "outputs": [],
   "source": [
    "def perform_backtest(df, short_period, intermediate_period, long_period):\n",
    "    # This is a very simple logic just for illustration\n",
    "    # Here we check how many times short MA is above both intermediate and long MAs\n",
    "    positive_crosses = df[df[f'SMA_{short_period}'] > df[f'SMA_{intermediate_period}']]\n",
    "    positive_crosses = positive_crosses[positive_crosses[f'SMA_{short_period}'] > positive_crosses[f'SMA_{long_period}']]\n",
    "    \n",
    "    # Return the count of positive crosses as the \"metric\"\n",
    "    # This is just a placeholder, and in a real scenario, you'd use a more complex strategy\n",
    "    return len(positive_crosses)\n"
   ]
  },
  {
   "cell_type": "code",
   "execution_count": 24,
   "metadata": {},
   "outputs": [],
   "source": [
    "# Define ranges\n",
    "short_range = range(5, 51)\n",
    "intermediate_range = range(51, 101)\n",
    "long_range = range(101, 201)"
   ]
  },
  {
   "cell_type": "code",
   "execution_count": 20,
   "metadata": {},
   "outputs": [],
   "source": [
    "best_combination = None\n",
    "best_metric = -float('inf')  # Example: if the goal is to maximize some metric"
   ]
  },
  {
   "cell_type": "code",
   "execution_count": 25,
   "metadata": {},
   "outputs": [
    {
     "data": {
      "text/html": [
       "<div>\n",
       "<style scoped>\n",
       "    .dataframe tbody tr th:only-of-type {\n",
       "        vertical-align: middle;\n",
       "    }\n",
       "\n",
       "    .dataframe tbody tr th {\n",
       "        vertical-align: top;\n",
       "    }\n",
       "\n",
       "    .dataframe thead th {\n",
       "        text-align: right;\n",
       "    }\n",
       "</style>\n",
       "<table border=\"1\" class=\"dataframe\">\n",
       "  <thead>\n",
       "    <tr style=\"text-align: right;\">\n",
       "      <th></th>\n",
       "      <th>Close</th>\n",
       "    </tr>\n",
       "    <tr>\n",
       "      <th>Date</th>\n",
       "      <th></th>\n",
       "    </tr>\n",
       "  </thead>\n",
       "  <tbody>\n",
       "    <tr>\n",
       "      <th>2023-09-29</th>\n",
       "      <td>41.42</td>\n",
       "    </tr>\n",
       "    <tr>\n",
       "      <th>2023-09-28</th>\n",
       "      <td>41.58</td>\n",
       "    </tr>\n",
       "    <tr>\n",
       "      <th>2023-09-27</th>\n",
       "      <td>41.17</td>\n",
       "    </tr>\n",
       "    <tr>\n",
       "      <th>2023-09-26</th>\n",
       "      <td>40.85</td>\n",
       "    </tr>\n",
       "    <tr>\n",
       "      <th>2023-09-25</th>\n",
       "      <td>41.40</td>\n",
       "    </tr>\n",
       "    <tr>\n",
       "      <th>...</th>\n",
       "      <td>...</td>\n",
       "    </tr>\n",
       "    <tr>\n",
       "      <th>2022-12-19</th>\n",
       "      <td>39.93</td>\n",
       "    </tr>\n",
       "    <tr>\n",
       "      <th>2022-12-16</th>\n",
       "      <td>40.50</td>\n",
       "    </tr>\n",
       "    <tr>\n",
       "      <th>2022-12-15</th>\n",
       "      <td>40.85</td>\n",
       "    </tr>\n",
       "    <tr>\n",
       "      <th>2022-12-14</th>\n",
       "      <td>41.88</td>\n",
       "    </tr>\n",
       "    <tr>\n",
       "      <th>2022-12-13</th>\n",
       "      <td>42.09</td>\n",
       "    </tr>\n",
       "  </tbody>\n",
       "</table>\n",
       "<p>200 rows × 1 columns</p>\n",
       "</div>"
      ],
      "text/plain": [
       "            Close\n",
       "Date             \n",
       "2023-09-29  41.42\n",
       "2023-09-28  41.58\n",
       "2023-09-27  41.17\n",
       "2023-09-26  40.85\n",
       "2023-09-25  41.40\n",
       "...           ...\n",
       "2022-12-19  39.93\n",
       "2022-12-16  40.50\n",
       "2022-12-15  40.85\n",
       "2022-12-14  41.88\n",
       "2022-12-13  42.09\n",
       "\n",
       "[200 rows x 1 columns]"
      ]
     },
     "execution_count": 25,
     "metadata": {},
     "output_type": "execute_result"
    }
   ],
   "source": [
    "# Get a dataframe with Close as the data and Date as the index \n",
    "import fndata\n",
    "import os\n",
    "from dotenv import load_dotenv\n",
    "load_dotenv()\n",
    "symbol = 'SCHA'\n",
    "period = '10' # required parameter, not used in this example\n",
    "fmpkey = os.getenv('FMPKEY')\n",
    "url = f\"https://financialmodelingprep.com/api/v3/technical_indicator/daily/{symbol}?period={period}&type=sma&apikey={fmpkey}\"\n",
    "data = fndata.get_jsonparsed_data(url)\n",
    "df = pd.DataFrame(data)\n",
    "df = df[['date', 'close']]\n",
    "#set the date as the index\n",
    "df.rename(columns={'date': 'Date', 'close': 'Close'}, inplace=True) \n",
    "df.set_index('Date', inplace=True)\n",
    "df.index = pd.to_datetime(df.index)\n",
    "\n",
    "df = df.head(200)\n",
    "\n",
    "df"
   ]
  },
  {
   "cell_type": "code",
   "execution_count": 26,
   "metadata": {},
   "outputs": [
    {
     "name": "stdout",
     "output_type": "stream",
     "text": [
      "Best Combination of SMA Periods:  (20, 50, 51)\n"
     ]
    }
   ],
   "source": [
    "# Evaluate all combinations\n",
    "for short, intermediate, long in itertools.product(short_range, intermediate_range, long_range):\n",
    "    if short < intermediate < long:\n",
    "        df[f'SMA_{short}'] = df['Close'].rolling(window=short).mean()\n",
    "        df[f'SMA_{intermediate}'] = df['Close'].rolling(window=intermediate).mean()\n",
    "        df[f'SMA_{long}'] = df['Close'].rolling(window=long).mean()\n",
    "        \n",
    "        # Perform backtesting and calculate performance metric\n",
    "        metric = perform_backtest(df, short, intermediate, long)  # Define this function based on your strategy\n",
    "        \n",
    "        if metric > best_metric:\n",
    "            best_metric = metric\n",
    "            best_combination = (short, intermediate, long)\n",
    "\n",
    "print(\"Best Combination of SMA Periods: \", best_combination)\n"
   ]
  }
 ],
 "metadata": {
  "kernelspec": {
   "display_name": "Python 3",
   "language": "python",
   "name": "python3"
  },
  "language_info": {
   "codemirror_mode": {
    "name": "ipython",
    "version": 3
   },
   "file_extension": ".py",
   "mimetype": "text/x-python",
   "name": "python",
   "nbconvert_exporter": "python",
   "pygments_lexer": "ipython3",
   "version": "3.11.1"
  },
  "orig_nbformat": 4
 },
 "nbformat": 4,
 "nbformat_minor": 2
}
