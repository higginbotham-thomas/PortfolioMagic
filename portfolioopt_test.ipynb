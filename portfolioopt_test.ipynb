{
 "cells": [
  {
   "cell_type": "code",
   "execution_count": 4,
   "id": "initial_id",
   "metadata": {
    "collapsed": true,
    "ExecuteTime": {
     "end_time": "2023-09-26T03:13:52.809992Z",
     "start_time": "2023-09-26T03:13:47.862062Z"
    }
   },
   "outputs": [
    {
     "name": "stdout",
     "output_type": "stream",
     "text": [
      "Unique Accounts:\n",
      "1. PCRA\n",
      "2. Inh 401k\n",
      "3. Roth IRA\n",
      "4. Fid 401k\n"
     ]
    }
   ],
   "source": [
    "import functions\n",
    "import pandas as pd\n",
    "\n",
    "df_accounts = pd.read_csv('Accounts.csv')\n",
    "\n",
    "# Display unique values in the 'Account' column\n",
    "unique_accounts = df_accounts['Account'].unique()\n",
    "print(\"Unique Accounts:\")\n",
    "for i, account in enumerate(unique_accounts):\n",
    "    print(f\"{i + 1}. {account}\")\n",
    "\n",
    "# Prompt the user to choose an account\n",
    "selected_account_index = int(input(\"Enter the number of the account you want to select: \")) - 1\n",
    "selected_account = unique_accounts[selected_account_index]\n",
    "\n",
    "# Filter the DataFrame based on the selected account\n",
    "symbols = df_accounts[df_accounts['Account'] == selected_account]['Symbol'].tolist()"
   ]
  },
  {
   "cell_type": "code",
   "execution_count": 5,
   "outputs": [
    {
     "data": {
      "text/plain": "['SCHX', 'SPDW', 'SCHA', 'USCI', 'DBO', 'DBE']"
     },
     "execution_count": 5,
     "metadata": {},
     "output_type": "execute_result"
    }
   ],
   "source": [
    "symbols"
   ],
   "metadata": {
    "collapsed": false,
    "ExecuteTime": {
     "end_time": "2023-09-26T03:13:55.711553Z",
     "start_time": "2023-09-26T03:13:55.707066Z"
    }
   },
   "id": "c493bd48367ac917"
  },
  {
   "cell_type": "code",
   "execution_count": null,
   "outputs": [],
   "source": [],
   "metadata": {
    "collapsed": false
   },
   "id": "e0d3fd0f865a9521"
  }
 ],
 "metadata": {
  "kernelspec": {
   "display_name": "Python 3",
   "language": "python",
   "name": "python3"
  },
  "language_info": {
   "codemirror_mode": {
    "name": "ipython",
    "version": 2
   },
   "file_extension": ".py",
   "mimetype": "text/x-python",
   "name": "python",
   "nbconvert_exporter": "python",
   "pygments_lexer": "ipython2",
   "version": "2.7.6"
  }
 },
 "nbformat": 4,
 "nbformat_minor": 5
}
