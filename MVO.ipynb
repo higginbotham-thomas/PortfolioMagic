{
 "cells": [
  {
   "cell_type": "code",
   "execution_count": null,
   "metadata": {
    "collapsed": false
   },
   "outputs": [],
   "source": [
    "# Imports\n",
    "import os\n",
    "\n",
    "# Third-party imports\n",
    "import pandas as pd\n",
    "from dotenv import load_dotenv\n",
    "\n",
    "import functions as f\n",
    "\n",
    "# Load environment variables (stuff that doesn't change often)\n",
    "load_dotenv()\n",
    "\n",
    "API_KEY = os.getenv('FMPKEY')   \n",
    "\n",
    "RF = (lambda x: x[0][\"month3\"] / 100)(f.get_treasury_data(API_KEY))  # 3 Month Treasury Rate\n",
    "\n",
    "TRADING_DAYS = 252  # Number of trading days in a year\n",
    "\n",
    "# The following items need to be prompted at each run:\n",
    "\n",
    "# Prompt for CSV file path\n",
    "file_path = input(\"Enter the path for the CSV file: \")\n",
    "\n",
    "# Read CSV file\n",
    "current_portfolio = pd.read_csv(file_path, skiprows=2)\n",
    "\n",
    "ACCT = float(current_portfolio['Market Value'].replace('[\\$,]', '', regex=True).iloc[-1]) # Account balance\n",
    "print(ACCT)\n",
    "\n",
    "current_portfolio = current_portfolio[~current_portfolio['Symbol'].isin(['Cash & Cash Investments', 'Account Total'])] # Remove cash and total rows\n",
    "current_portfolio = current_portfolio[['Symbol', 'Quantity']].rename(columns={'Quantity': 'Shares'})\n",
    "current_portfolio['Shares'] = pd.to_numeric(current_portfolio['Shares'], errors='coerce')\n",
    "\n",
    "STOCKS = current_portfolio['Symbol'].unique().tolist()\n",
    "print(STOCKS)\n",
    "\n",
    "RISK = float(input(\"What is your risk tolerance? (0.0 - 1.0): \"))\n",
    "#RISK = 0.2  # Risk tolerance\n",
    "\n",
    "NUMBER_OF_DAYS = int(input(\"How many trading days would you like to simulate? (252 per year): \"))\n",
    "#NUMBER_OF_DAYS = 300  # Number of days to simulate (history)\n",
    "\n",
    "NUMBER_OF_PORTFOLIOS = int(input(\"How many portfolio simulations would you like to use? (100): \"))\n",
    "#NUMBER_OF_PORTFOLIOS = 100  # Number of portfolios to simulate\n",
    "\n"
   ]
  },
  {
   "cell_type": "markdown",
   "source": [],
   "metadata": {
    "collapsed": false
   }
  },
  {
   "cell_type": "code",
   "execution_count": null,
   "outputs": [],
   "source": [
    "# Get the price history for all stocks and ETFs\n",
    "stock_history = f.get_stock_history(STOCKS, NUMBER_OF_DAYS, API_KEY)\n",
    "# Get the daily return (price difference) for all stocks and ETFs\n",
    "return_stocks = f.get_return_stocks(stock_history)\n",
    "\n",
    "# Define a dictionary of arguments\n",
    "args = {\n",
    "    'number_of_portfolios': NUMBER_OF_PORTFOLIOS,\n",
    "    'stocks': STOCKS,\n",
    "    'return_stocks': return_stocks,\n",
    "    'trading_days': TRADING_DAYS,\n",
    "    'rf': RF,\n",
    "    'risk': RISK\n",
    "}\n",
    "\n",
    "portfolio_dfs = f.get_montecarlo_simulation(args)\n",
    "# Get the recommended weights for each stock and ETF\n",
    "recommendations = f.get_recommendations(portfolio_dfs, current_portfolio, ACCT, STOCKS, stock_history)\n",
    "# Display results\n",
    "f.plot_portfolio_metrics(portfolio_dfs, NUMBER_OF_PORTFOLIOS, ACCT, RF, RISK)\n",
    "f.plot_portfolio_changes(recommendations)\n",
    "f.plot_risk_scatterplot(portfolio_dfs)\n",
    "f.plot_correlation_matrix(return_stocks)"
   ],
   "metadata": {
    "collapsed": false
   }
  },
  {
   "cell_type": "code",
   "execution_count": null,
   "outputs": [],
   "source": [
    "recommendations"
   ],
   "metadata": {
    "collapsed": false
   }
  },
  {
   "cell_type": "code",
   "execution_count": null,
   "outputs": [],
   "source": [],
   "metadata": {
    "collapsed": false
   }
  }
 ],
 "metadata": {
  "kernelspec": {
   "display_name": "Python 3",
   "language": "python",
   "name": "python3"
  },
  "language_info": {
   "codemirror_mode": {
    "name": "ipython",
    "version": 3
   },
   "file_extension": ".py",
   "mimetype": "text/x-python",
   "name": "python",
   "nbconvert_exporter": "python",
   "pygments_lexer": "ipython3",
   "version": "3.11.1"
  },
  "orig_nbformat": 4
 },
 "nbformat": 4,
 "nbformat_minor": 2
}
