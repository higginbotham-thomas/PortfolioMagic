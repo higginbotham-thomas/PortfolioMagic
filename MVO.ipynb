{
 "cells": [
  {
   "cell_type": "code",
   "execution_count": 1,
   "metadata": {
    "ExecuteTime": {
     "end_time": "2023-10-25T20:52:53.972781Z",
     "start_time": "2023-10-25T20:52:52.670422Z"
    },
    "collapsed": false
   },
   "outputs": [],
   "source": [
    "# Imports\n",
    "import os\n",
    "\n",
    "# Third-party imports\n",
    "import pandas as pd\n",
    "from dotenv import load_dotenv\n",
    "\n",
    "import functions as f"
   ]
  },
  {
   "cell_type": "code",
   "execution_count": 2,
   "metadata": {
    "ExecuteTime": {
     "end_time": "2023-10-25T20:52:54.238996Z",
     "start_time": "2023-10-25T20:52:53.973243Z"
    },
    "collapsed": false
   },
   "outputs": [],
   "source": [
    "# Load environment variables (stuff that doesn't change often)\n",
    "load_dotenv()\n",
    "\n",
    "API_KEY = os.getenv('FMPKEY')   \n",
    "\n",
    "RF = (lambda x: x[0][\"month3\"] / 100)(f.get_treasury_data(API_KEY))  # 3 Month Treasury Rate\n",
    "\n",
    "TRADING_DAYS = 252  # Number of trading days in a year"
   ]
  },
  {
   "cell_type": "code",
   "execution_count": 3,
   "metadata": {
    "ExecuteTime": {
     "end_time": "2023-10-25T20:52:54.244778Z",
     "start_time": "2023-10-25T20:52:54.240044Z"
    },
    "collapsed": false
   },
   "outputs": [
    {
     "name": "stdout",
     "output_type": "stream",
     "text": [
      "7567.49\n",
      "['EOG', 'MET', 'NVDA', 'TSLA', 'BULZ', 'EELV', 'EFG', 'EFV', 'FBL', 'FLSW', 'FNGO', 'FTEC', 'IFRA', 'IVE', 'MTUM', 'NVDL', 'SCHA', 'SCHX', 'SGDJ', 'SPDW', 'SPSM', 'SPYG', 'SQQQ', 'USMV', 'XES', 'XLB', 'XLE', 'XOP']\n"
     ]
    }
   ],
   "source": [
    "# These need to be prompted at each run\n",
    "\n",
    "# Prompt for CSV file path\n",
    "file_path = input(\"Enter the path for the CSV file: \")\n",
    "\n",
    "# Read CSV file\n",
    "current_portfolio = pd.read_csv(file_path, skiprows=2)\n",
    "\n",
    "ACCT = float(current_portfolio['Market Value'].replace('[\\$,]', '', regex=True).iloc[-1]) # Account balance\n",
    "print(ACCT)\n",
    "\n",
    "current_portfolio = current_portfolio[~current_portfolio['Symbol'].isin(['Cash & Cash Investments', 'Account Total'])] # Remove cash and total rows\n",
    "current_portfolio = current_portfolio[['Symbol', 'Quantity']].rename(columns={'Quantity': 'Shares'})\n",
    "current_portfolio['Shares'] = pd.to_numeric(current_portfolio['Shares'], errors='coerce')\n",
    "\n",
    "STOCKS = current_portfolio['Symbol'].unique().tolist()\n",
    "print(STOCKS)\n",
    "\n",
    "RISK = input(\"What is your risk tolerance? (0.0 - 1.0): \")\n",
    "#RISK = 0.2  # Risk tolerance\n",
    "\n",
    "NUMBER_OF_DAYS = input(\"How many trading days would you like to simulate? (252 per year): \")\n",
    "#NUMBER_OF_DAYS = 300  # Number of days to simulate (history)\n",
    "\n",
    "NUMBER_OF_PORTFOLIOS = input(\"How many portfolio simulations would you like to use? (100): \")\n",
    "#NUMBER_OF_PORTFOLIOS = 100  # Number of portfolios to simulate\n",
    "\n"
   ]
  },
  {
   "cell_type": "code",
   "execution_count": 4,
   "metadata": {
    "ExecuteTime": {
     "end_time": "2023-10-25T20:53:02.877879Z",
     "start_time": "2023-10-25T20:52:54.245765Z"
    },
    "collapsed": false
   },
   "outputs": [
    {
     "ename": "TypeError",
     "evalue": "cannot do positional indexing on Int64Index with these indexers [300] of type str",
     "output_type": "error",
     "traceback": [
      "\u001b[1;31m---------------------------------------------------------------------------\u001b[0m",
      "\u001b[1;31mTypeError\u001b[0m                                 Traceback (most recent call last)",
      "\u001b[1;32mc:\\Users\\thomas.higginbotham\\OneDrive\\PortfolioMagic\\MVO.ipynb Cell 4\u001b[0m line \u001b[0;36m2\n\u001b[0;32m      <a href='vscode-notebook-cell:/c%3A/Users/thomas.higginbotham/OneDrive/PortfolioMagic/MVO.ipynb#W3sZmlsZQ%3D%3D?line=0'>1</a>\u001b[0m \u001b[39m# Get the price history for all stocks and ETFs\u001b[39;00m\n\u001b[1;32m----> <a href='vscode-notebook-cell:/c%3A/Users/thomas.higginbotham/OneDrive/PortfolioMagic/MVO.ipynb#W3sZmlsZQ%3D%3D?line=1'>2</a>\u001b[0m stock_history \u001b[39m=\u001b[39m f\u001b[39m.\u001b[39;49mget_stock_history(STOCKS, NUMBER_OF_DAYS, API_KEY)\n",
      "File \u001b[1;32mc:\\Users\\thomas.higginbotham\\OneDrive\\PortfolioMagic\\functions.py:112\u001b[0m, in \u001b[0;36mget_stock_history\u001b[1;34m(stocks, number_of_days, api_key)\u001b[0m\n\u001b[0;32m    109\u001b[0m     prices_df \u001b[39m=\u001b[39m prices_df\u001b[39m.\u001b[39msort_values(\u001b[39m'\u001b[39m\u001b[39mdate\u001b[39m\u001b[39m'\u001b[39m, ascending\u001b[39m=\u001b[39m\u001b[39mFalse\u001b[39;00m)\n\u001b[0;32m    111\u001b[0m     \u001b[39m# Select closing prices for the chosen number of days\u001b[39;00m\n\u001b[1;32m--> 112\u001b[0m     recent_prices \u001b[39m=\u001b[39m prices_df\u001b[39m.\u001b[39;49mhead(number_of_days)\u001b[39m.\u001b[39mset_index(\u001b[39m'\u001b[39m\u001b[39mdate\u001b[39m\u001b[39m'\u001b[39m)[\u001b[39m'\u001b[39m\u001b[39mclose\u001b[39m\u001b[39m'\u001b[39m]\n\u001b[0;32m    113\u001b[0m     stock_history[stock] \u001b[39m=\u001b[39m recent_prices\n\u001b[0;32m    114\u001b[0m \u001b[39mexcept\u001b[39;00m requests\u001b[39m.\u001b[39mexceptions\u001b[39m.\u001b[39mHTTPError \u001b[39mas\u001b[39;00m http_err:\n",
      "File \u001b[1;32mc:\\Users\\thomas.higginbotham\\AppData\\Local\\Programs\\Python\\Python311\\Lib\\site-packages\\pandas\\core\\generic.py:5547\u001b[0m, in \u001b[0;36mNDFrame.head\u001b[1;34m(self, n)\u001b[0m\n\u001b[0;32m   5474\u001b[0m \u001b[39m@final\u001b[39m\n\u001b[0;32m   5475\u001b[0m \u001b[39mdef\u001b[39;00m \u001b[39mhead\u001b[39m(\u001b[39mself\u001b[39m: NDFrameT, n: \u001b[39mint\u001b[39m \u001b[39m=\u001b[39m \u001b[39m5\u001b[39m) \u001b[39m-\u001b[39m\u001b[39m>\u001b[39m NDFrameT:\n\u001b[0;32m   5476\u001b[0m     \u001b[39m\"\"\"\u001b[39;00m\n\u001b[0;32m   5477\u001b[0m \u001b[39m    Return the first `n` rows.\u001b[39;00m\n\u001b[0;32m   5478\u001b[0m \n\u001b[1;32m   (...)\u001b[0m\n\u001b[0;32m   5545\u001b[0m \u001b[39m    5     parrot\u001b[39;00m\n\u001b[0;32m   5546\u001b[0m \u001b[39m    \"\"\"\u001b[39;00m\n\u001b[1;32m-> 5547\u001b[0m     \u001b[39mreturn\u001b[39;00m \u001b[39mself\u001b[39;49m\u001b[39m.\u001b[39;49miloc[:n]\n",
      "File \u001b[1;32mc:\\Users\\thomas.higginbotham\\AppData\\Local\\Programs\\Python\\Python311\\Lib\\site-packages\\pandas\\core\\indexing.py:1073\u001b[0m, in \u001b[0;36m_LocationIndexer.__getitem__\u001b[1;34m(self, key)\u001b[0m\n\u001b[0;32m   1070\u001b[0m axis \u001b[39m=\u001b[39m \u001b[39mself\u001b[39m\u001b[39m.\u001b[39maxis \u001b[39mor\u001b[39;00m \u001b[39m0\u001b[39m\n\u001b[0;32m   1072\u001b[0m maybe_callable \u001b[39m=\u001b[39m com\u001b[39m.\u001b[39mapply_if_callable(key, \u001b[39mself\u001b[39m\u001b[39m.\u001b[39mobj)\n\u001b[1;32m-> 1073\u001b[0m \u001b[39mreturn\u001b[39;00m \u001b[39mself\u001b[39;49m\u001b[39m.\u001b[39;49m_getitem_axis(maybe_callable, axis\u001b[39m=\u001b[39;49maxis)\n",
      "File \u001b[1;32mc:\\Users\\thomas.higginbotham\\AppData\\Local\\Programs\\Python\\Python311\\Lib\\site-packages\\pandas\\core\\indexing.py:1602\u001b[0m, in \u001b[0;36m_iLocIndexer._getitem_axis\u001b[1;34m(self, key, axis)\u001b[0m\n\u001b[0;32m   1596\u001b[0m     \u001b[39mraise\u001b[39;00m \u001b[39mIndexError\u001b[39;00m(\n\u001b[0;32m   1597\u001b[0m         \u001b[39m\"\u001b[39m\u001b[39mDataFrame indexer is not allowed for .iloc\u001b[39m\u001b[39m\\n\u001b[39;00m\u001b[39m\"\u001b[39m\n\u001b[0;32m   1598\u001b[0m         \u001b[39m\"\u001b[39m\u001b[39mConsider using .loc for automatic alignment.\u001b[39m\u001b[39m\"\u001b[39m\n\u001b[0;32m   1599\u001b[0m     )\n\u001b[0;32m   1601\u001b[0m \u001b[39mif\u001b[39;00m \u001b[39misinstance\u001b[39m(key, \u001b[39mslice\u001b[39m):\n\u001b[1;32m-> 1602\u001b[0m     \u001b[39mreturn\u001b[39;00m \u001b[39mself\u001b[39;49m\u001b[39m.\u001b[39;49m_get_slice_axis(key, axis\u001b[39m=\u001b[39;49maxis)\n\u001b[0;32m   1604\u001b[0m \u001b[39mif\u001b[39;00m is_iterator(key):\n\u001b[0;32m   1605\u001b[0m     key \u001b[39m=\u001b[39m \u001b[39mlist\u001b[39m(key)\n",
      "File \u001b[1;32mc:\\Users\\thomas.higginbotham\\AppData\\Local\\Programs\\Python\\Python311\\Lib\\site-packages\\pandas\\core\\indexing.py:1637\u001b[0m, in \u001b[0;36m_iLocIndexer._get_slice_axis\u001b[1;34m(self, slice_obj, axis)\u001b[0m\n\u001b[0;32m   1634\u001b[0m     \u001b[39mreturn\u001b[39;00m obj\u001b[39m.\u001b[39mcopy(deep\u001b[39m=\u001b[39m\u001b[39mFalse\u001b[39;00m)\n\u001b[0;32m   1636\u001b[0m labels \u001b[39m=\u001b[39m obj\u001b[39m.\u001b[39m_get_axis(axis)\n\u001b[1;32m-> 1637\u001b[0m labels\u001b[39m.\u001b[39;49m_validate_positional_slice(slice_obj)\n\u001b[0;32m   1638\u001b[0m \u001b[39mreturn\u001b[39;00m \u001b[39mself\u001b[39m\u001b[39m.\u001b[39mobj\u001b[39m.\u001b[39m_slice(slice_obj, axis\u001b[39m=\u001b[39maxis)\n",
      "File \u001b[1;32mc:\\Users\\thomas.higginbotham\\AppData\\Local\\Programs\\Python\\Python311\\Lib\\site-packages\\pandas\\core\\indexes\\base.py:4213\u001b[0m, in \u001b[0;36mIndex._validate_positional_slice\u001b[1;34m(self, key)\u001b[0m\n\u001b[0;32m   4208\u001b[0m \u001b[39m\"\"\"\u001b[39;00m\n\u001b[0;32m   4209\u001b[0m \u001b[39mFor positional indexing, a slice must have either int or None\u001b[39;00m\n\u001b[0;32m   4210\u001b[0m \u001b[39mfor each of start, stop, and step.\u001b[39;00m\n\u001b[0;32m   4211\u001b[0m \u001b[39m\"\"\"\u001b[39;00m\n\u001b[0;32m   4212\u001b[0m \u001b[39mself\u001b[39m\u001b[39m.\u001b[39m_validate_indexer(\u001b[39m\"\u001b[39m\u001b[39mpositional\u001b[39m\u001b[39m\"\u001b[39m, key\u001b[39m.\u001b[39mstart, \u001b[39m\"\u001b[39m\u001b[39miloc\u001b[39m\u001b[39m\"\u001b[39m)\n\u001b[1;32m-> 4213\u001b[0m \u001b[39mself\u001b[39;49m\u001b[39m.\u001b[39;49m_validate_indexer(\u001b[39m\"\u001b[39;49m\u001b[39mpositional\u001b[39;49m\u001b[39m\"\u001b[39;49m, key\u001b[39m.\u001b[39;49mstop, \u001b[39m\"\u001b[39;49m\u001b[39miloc\u001b[39;49m\u001b[39m\"\u001b[39;49m)\n\u001b[0;32m   4214\u001b[0m \u001b[39mself\u001b[39m\u001b[39m.\u001b[39m_validate_indexer(\u001b[39m\"\u001b[39m\u001b[39mpositional\u001b[39m\u001b[39m\"\u001b[39m, key\u001b[39m.\u001b[39mstep, \u001b[39m\"\u001b[39m\u001b[39miloc\u001b[39m\u001b[39m\"\u001b[39m)\n",
      "File \u001b[1;32mc:\\Users\\thomas.higginbotham\\AppData\\Local\\Programs\\Python\\Python311\\Lib\\site-packages\\pandas\\core\\indexes\\base.py:6634\u001b[0m, in \u001b[0;36mIndex._validate_indexer\u001b[1;34m(self, form, key, kind)\u001b[0m\n\u001b[0;32m   6631\u001b[0m \u001b[39massert\u001b[39;00m kind \u001b[39min\u001b[39;00m [\u001b[39m\"\u001b[39m\u001b[39mgetitem\u001b[39m\u001b[39m\"\u001b[39m, \u001b[39m\"\u001b[39m\u001b[39miloc\u001b[39m\u001b[39m\"\u001b[39m]\n\u001b[0;32m   6633\u001b[0m \u001b[39mif\u001b[39;00m key \u001b[39mis\u001b[39;00m \u001b[39mnot\u001b[39;00m \u001b[39mNone\u001b[39;00m \u001b[39mand\u001b[39;00m \u001b[39mnot\u001b[39;00m is_integer(key):\n\u001b[1;32m-> 6634\u001b[0m     \u001b[39mraise\u001b[39;00m \u001b[39mself\u001b[39m\u001b[39m.\u001b[39m_invalid_indexer(form, key)\n",
      "\u001b[1;31mTypeError\u001b[0m: cannot do positional indexing on Int64Index with these indexers [300] of type str"
     ]
    }
   ],
   "source": [
    "# Get the price history for all stocks and ETFs\n",
    "stock_history = f.get_stock_history(STOCKS, NUMBER_OF_DAYS, API_KEY)"
   ]
  },
  {
   "cell_type": "code",
   "execution_count": null,
   "metadata": {
    "ExecuteTime": {
     "end_time": "2023-10-25T20:53:02.894423Z",
     "start_time": "2023-10-25T20:53:02.885987Z"
    },
    "collapsed": false
   },
   "outputs": [],
   "source": [
    "# Get the daily return (price difference) for all stocks and ETFs\n",
    "return_stocks = f.get_return_stocks(stock_history)"
   ]
  },
  {
   "cell_type": "code",
   "execution_count": null,
   "metadata": {
    "ExecuteTime": {
     "end_time": "2023-10-25T20:53:02.932286Z",
     "start_time": "2023-10-25T20:53:02.895887Z"
    },
    "collapsed": false
   },
   "outputs": [],
   "source": [
    "portfolio_dfs = f.get_montecarlo_simulation(NUMBER_OF_PORTFOLIOS, STOCKS, return_stocks, TRADING_DAYS, RF, RISK)"
   ]
  },
  {
   "cell_type": "code",
   "execution_count": null,
   "metadata": {
    "ExecuteTime": {
     "end_time": "2023-10-25T20:53:02.945038Z",
     "start_time": "2023-10-25T20:53:02.944010Z"
    },
    "collapsed": false
   },
   "outputs": [],
   "source": [
    "recommendations = f.get_recommendations(portfolio_dfs, current_portfolio, ACCT, STOCKS, stock_history)"
   ]
  },
  {
   "cell_type": "code",
   "execution_count": null,
   "metadata": {
    "ExecuteTime": {
     "end_time": "2023-10-25T20:53:03.016065Z",
     "start_time": "2023-10-25T20:53:02.946804Z"
    },
    "collapsed": false
   },
   "outputs": [],
   "source": [
    "f.plot_portfolio_metrics(portfolio_dfs, NUMBER_OF_PORTFOLIOS, ACCT, RF, RISK)"
   ]
  },
  {
   "cell_type": "code",
   "execution_count": null,
   "metadata": {
    "ExecuteTime": {
     "end_time": "2023-10-25T20:53:03.631938Z",
     "start_time": "2023-10-25T20:53:03.043654Z"
    },
    "collapsed": false
   },
   "outputs": [],
   "source": [
    "f.plot_portfolio_changes(recommendations)"
   ]
  },
  {
   "cell_type": "code",
   "execution_count": null,
   "metadata": {
    "ExecuteTime": {
     "end_time": "2023-10-25T20:53:03.770983Z",
     "start_time": "2023-10-25T20:53:03.632601Z"
    },
    "collapsed": false
   },
   "outputs": [],
   "source": [
    "f.plot_risk_scatterplot(portfolio_dfs)"
   ]
  },
  {
   "cell_type": "code",
   "execution_count": null,
   "metadata": {
    "ExecuteTime": {
     "end_time": "2023-10-25T20:53:04.474149Z",
     "start_time": "2023-10-25T20:53:03.764591Z"
    }
   },
   "outputs": [],
   "source": [
    "f.plot_correlation_matrix(return_stocks)"
   ]
  }
 ],
 "metadata": {
  "kernelspec": {
   "display_name": "Python 3",
   "language": "python",
   "name": "python3"
  },
  "language_info": {
   "codemirror_mode": {
    "name": "ipython",
    "version": 3
   },
   "file_extension": ".py",
   "mimetype": "text/x-python",
   "name": "python",
   "nbconvert_exporter": "python",
   "pygments_lexer": "ipython3",
   "version": "3.11.1"
  },
  "orig_nbformat": 4
 },
 "nbformat": 4,
 "nbformat_minor": 2
}
